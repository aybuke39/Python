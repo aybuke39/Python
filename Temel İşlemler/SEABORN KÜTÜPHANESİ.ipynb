{
 "cells": [
  {
   "cell_type": "code",
   "execution_count": 2,
   "id": "2b139874",
   "metadata": {},
   "outputs": [
    {
     "name": "stdout",
     "output_type": "stream",
     "text": [
      "   sepal_length  sepal_width  petal_length  petal_width species\n",
      "0           5.1          3.5           1.4          0.2  setosa\n",
      "1           4.9          3.0           1.4          0.2  setosa\n",
      "2           4.7          3.2           1.3          0.2  setosa\n",
      "3           4.6          3.1           1.5          0.2  setosa\n",
      "4           5.0          3.6           1.4          0.2  setosa\n"
     ]
    }
   ],
   "source": [
    "import seaborn as sns\n",
    "# Iris veri seti yükleme\n",
    "iris = sns.load_dataset(\"iris\")\n",
    "\n",
    "# İlk 5 satırı görüntüleme\n",
    "print(iris.head())"
   ]
  },
  {
   "cell_type": "code",
   "execution_count": 6,
   "id": "bbc1b22f",
   "metadata": {},
   "outputs": [
    {
     "name": "stdout",
     "output_type": "stream",
     "text": [
      "             image                           bounds\n",
      "0  vid_5_26560.jpg  0.0 0.0 1.0 1.0 0.0 0.0 1.0 1.0\n",
      "1  vid_5_26580.jpg  0.0 0.0 1.0 1.0 0.0 0.0 1.0 1.0\n",
      "2  vid_5_26600.jpg                  0.0 0.0 1.0 1.0\n",
      "3  vid_5_26620.jpg                  0.0 0.0 1.0 1.0\n",
      "4  vid_5_26640.jpg                  0.0 0.0 1.0 1.0\n"
     ]
    }
   ],
   "source": [
    "import pandas as pd\n",
    "# Iris veri seti yükleme\n",
    "iris = pd.read_csv('D:\\pandas\\sample_submission.csv')\n",
    "\n",
    "# İlk 5 satırı görüntüleme\n",
    "print(iris.head())"
   ]
  },
  {
   "cell_type": "code",
   "execution_count": null,
   "id": "a1960786",
   "metadata": {},
   "outputs": [],
   "source": []
  }
 ],
 "metadata": {
  "kernelspec": {
   "display_name": "Python 3 (ipykernel)",
   "language": "python",
   "name": "python3"
  },
  "language_info": {
   "codemirror_mode": {
    "name": "ipython",
    "version": 3
   },
   "file_extension": ".py",
   "mimetype": "text/x-python",
   "name": "python",
   "nbconvert_exporter": "python",
   "pygments_lexer": "ipython3",
   "version": "3.9.13"
  }
 },
 "nbformat": 4,
 "nbformat_minor": 5
}
