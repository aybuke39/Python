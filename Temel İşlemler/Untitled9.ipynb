{
 "cells": [
  {
   "cell_type": "markdown",
   "id": "9e094905",
   "metadata": {},
   "source": [
    "## Mantıksal Bağlaçlar"
   ]
  },
  {
   "cell_type": "code",
   "execution_count": 2,
   "id": "bd4025fe",
   "metadata": {},
   "outputs": [
    {
     "data": {
      "text/plain": [
       "True"
      ]
     },
     "execution_count": 2,
     "metadata": {},
     "output_type": "execute_result"
    }
   ],
   "source": [
    "1 < 2 and \"Murat\" == \"Murat\""
   ]
  },
  {
   "cell_type": "code",
   "execution_count": 4,
   "id": "adfe88c8",
   "metadata": {},
   "outputs": [
    {
     "data": {
      "text/plain": [
       "False"
      ]
     },
     "execution_count": 4,
     "metadata": {},
     "output_type": "execute_result"
    }
   ],
   "source": [
    "2 > 3 and \"Murat\" == \"Murat\""
   ]
  },
  {
   "cell_type": "code",
   "execution_count": 5,
   "id": "39336f30",
   "metadata": {},
   "outputs": [
    {
     "data": {
      "text/plain": [
       "True"
      ]
     },
     "execution_count": 5,
     "metadata": {},
     "output_type": "execute_result"
    }
   ],
   "source": [
    "1 < 2 or \"Murat\" == \"Murat\""
   ]
  },
  {
   "cell_type": "code",
   "execution_count": 11,
   "id": "937cd761",
   "metadata": {},
   "outputs": [
    {
     "data": {
      "text/plain": [
       "True"
      ]
     },
     "execution_count": 11,
     "metadata": {},
     "output_type": "execute_result"
    }
   ],
   "source": [
    "2 < 3  or \"Murat\" !=\"Murat\" "
   ]
  },
  {
   "cell_type": "code",
   "execution_count": 13,
   "id": "ee2fc61c",
   "metadata": {},
   "outputs": [
    {
     "data": {
      "text/plain": [
       "False"
      ]
     },
     "execution_count": 13,
     "metadata": {},
     "output_type": "execute_result"
    }
   ],
   "source": [
    "2 > 3  or \"Murat\" !=\"Murat\" or 5 > 9"
   ]
  },
  {
   "cell_type": "markdown",
   "id": "52995b1c",
   "metadata": {},
   "source": [
    "## Not Operatörü"
   ]
  },
  {
   "cell_type": "code",
   "execution_count": 14,
   "id": "2b4d66f4",
   "metadata": {},
   "outputs": [
    {
     "data": {
      "text/plain": [
       "False"
      ]
     },
     "execution_count": 14,
     "metadata": {},
     "output_type": "execute_result"
    }
   ],
   "source": [
    "not 2 == 2"
   ]
  },
  {
   "cell_type": "code",
   "execution_count": 15,
   "id": "82bd32c5",
   "metadata": {},
   "outputs": [
    {
     "data": {
      "text/plain": [
       "True"
      ]
     },
     "execution_count": 15,
     "metadata": {},
     "output_type": "execute_result"
    }
   ],
   "source": [
    "not \"python\" == \"Php\""
   ]
  },
  {
   "cell_type": "markdown",
   "id": "de2609b5",
   "metadata": {},
   "source": [
    "## İn Operatörü"
   ]
  },
  {
   "cell_type": "code",
   "execution_count": 16,
   "id": "ec0f4f9a",
   "metadata": {},
   "outputs": [
    {
     "data": {
      "text/plain": [
       "True"
      ]
     },
     "execution_count": 16,
     "metadata": {},
     "output_type": "execute_result"
    }
   ],
   "source": [
    "\"mer\" in \"merhaba\""
   ]
  },
  {
   "cell_type": "code",
   "execution_count": 17,
   "id": "9b4581e2",
   "metadata": {},
   "outputs": [
    {
     "data": {
      "text/plain": [
       "True"
      ]
     },
     "execution_count": 17,
     "metadata": {},
     "output_type": "execute_result"
    }
   ],
   "source": [
    "\"ay\" in \"aysun\""
   ]
  },
  {
   "cell_type": "code",
   "execution_count": 18,
   "id": "ce043a76",
   "metadata": {},
   "outputs": [
    {
     "data": {
      "text/plain": [
       "True"
      ]
     },
     "execution_count": 18,
     "metadata": {},
     "output_type": "execute_result"
    }
   ],
   "source": [
    "\"pınar\" in \"pınarhisar\""
   ]
  },
  {
   "cell_type": "code",
   "execution_count": 19,
   "id": "a1e003ba",
   "metadata": {},
   "outputs": [
    {
     "data": {
      "text/plain": [
       "False"
      ]
     },
     "execution_count": 19,
     "metadata": {},
     "output_type": "execute_result"
    }
   ],
   "source": [
    "\"ay\" in \"kırklareli\""
   ]
  },
  {
   "cell_type": "markdown",
   "id": "16476897",
   "metadata": {},
   "source": [
    "## for elemanı"
   ]
  },
  {
   "cell_type": "code",
   "execution_count": 21,
   "id": "4ee89aab",
   "metadata": {},
   "outputs": [
    {
     "name": "stdout",
     "output_type": "stream",
     "text": [
      "2\n",
      "4\n",
      "6\n",
      "8\n"
     ]
    }
   ],
   "source": [
    "# çift elemanları bastırma\n",
    "liste = [1,2,3,4,5,6,7,8,9]\n",
    "for eleman in liste:\n",
    "    if eleman % 2 == 0:\n",
    "        print(eleman)"
   ]
  },
  {
   "cell_type": "code",
   "execution_count": null,
   "id": "c99c1325",
   "metadata": {},
   "outputs": [],
   "source": []
  }
 ],
 "metadata": {
  "kernelspec": {
   "display_name": "Python 3 (ipykernel)",
   "language": "python",
   "name": "python3"
  },
  "language_info": {
   "codemirror_mode": {
    "name": "ipython",
    "version": 3
   },
   "file_extension": ".py",
   "mimetype": "text/x-python",
   "name": "python",
   "nbconvert_exporter": "python",
   "pygments_lexer": "ipython3",
   "version": "3.9.13"
  }
 },
 "nbformat": 4,
 "nbformat_minor": 5
}
