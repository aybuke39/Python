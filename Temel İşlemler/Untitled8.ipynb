{
 "cells": [
  {
   "cell_type": "markdown",
   "id": "fff55018",
   "metadata": {},
   "source": [
    "## İf Else İf Koşulu"
   ]
  },
  {
   "cell_type": "code",
   "execution_count": 18,
   "id": "eba8f03b",
   "metadata": {},
   "outputs": [
    {
     "name": "stdout",
     "output_type": "stream",
     "text": [
      "Bir Mevsim Giriniz.ilkbahar\n",
      "İlkbahar ayları: Mart, Nisan, Mayıs\n"
     ]
    }
   ],
   "source": [
    "mevsim=str(input(\"Bir Mevsim Giriniz.\"))\n",
    "if mevsim ==\"kış\":\n",
    "   print(\"Kış ayları: Aralık, Ocak, Şubat\")\n",
    "elif mevsim ==\"ilkbahar\":\n",
    "   print(\"İlkbahar ayları: Mart, Nisan, Mayıs\")\n",
    "elif mevsim ==\"Yaz\":\n",
    "   print(\"Yaz ayları: Haziran, Temmuz, Ağustos\")\n",
    "elif mevsim ==\"sonbahar\":\n",
    "  print(\"Sonbahar ayları: Eylül, Ekim, Kasım\")\n",
    "else:\n",
    "  print(\"Mevsim adını kontrol ediniz.\")"
   ]
  },
  {
   "cell_type": "code",
   "execution_count": null,
   "id": "468fbe2d",
   "metadata": {},
   "outputs": [],
   "source": []
  },
  {
   "cell_type": "code",
   "execution_count": null,
   "id": "c793b224",
   "metadata": {},
   "outputs": [],
   "source": []
  }
 ],
 "metadata": {
  "kernelspec": {
   "display_name": "Python 3 (ipykernel)",
   "language": "python",
   "name": "python3"
  },
  "language_info": {
   "codemirror_mode": {
    "name": "ipython",
    "version": 3
   },
   "file_extension": ".py",
   "mimetype": "text/x-python",
   "name": "python",
   "nbconvert_exporter": "python",
   "pygments_lexer": "ipython3",
   "version": "3.9.13"
  }
 },
 "nbformat": 4,
 "nbformat_minor": 5
}
