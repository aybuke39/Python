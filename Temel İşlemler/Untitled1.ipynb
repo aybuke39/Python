{
 "cells": [
  {
   "cell_type": "code",
   "execution_count": 1,
   "id": "754a990b",
   "metadata": {},
   "outputs": [
    {
     "name": "stdout",
     "output_type": "stream",
     "text": [
      "Lütfen bir sayı giriniz:25\n"
     ]
    },
    {
     "data": {
      "text/plain": [
       "'25'"
      ]
     },
     "execution_count": 1,
     "metadata": {},
     "output_type": "execute_result"
    }
   ],
   "source": [
    "input(\"Lütfen bir sayı giriniz:\")"
   ]
  },
  {
   "cell_type": "markdown",
   "id": "fefb39e2",
   "metadata": {},
   "source": [
    "Kullanıcıdan aldığımız değeri input() fonksiyonu yoluyla şu şekilde elde edebiliriz."
   ]
  },
  {
   "cell_type": "markdown",
   "id": "8f6cceb3",
   "metadata": {},
   "source": [
    "a = input(\"Lütfen bir sayı giriniz:\") #Kullanıcıdan aldığımız değer a değişkeni \n",
    "print (\"Kullanıcının girdiği değer:\",a)"
   ]
  },
  {
   "cell_type": "code",
   "execution_count": null,
   "id": "51b679a6",
   "metadata": {},
   "outputs": [],
   "source": [
    "a = int(input(\"Birinci Sınav:\"))\n",
    "b = int(input(\"İkinci Sınav:\"))\n",
    "c = int(input(\"Üçüncü Sınav:\"))\n",
    "print(\"Toplamları:\",a+b+c)"
   ]
  },
  {
   "cell_type": "code",
   "execution_count": 4,
   "id": "93c11047",
   "metadata": {},
   "outputs": [
    {
     "ename": "SyntaxError",
     "evalue": "invalid syntax (4159684577.py, line 1)",
     "output_type": "error",
     "traceback": [
      "\u001b[1;36m  File \u001b[1;32m\"C:\\Users\\BT-101\\AppData\\Local\\Temp\\ipykernel_2312\\4159684577.py\"\u001b[1;36m, line \u001b[1;32m1\u001b[0m\n\u001b[1;33m    1. Sınav Notu: 60\u001b[0m\n\u001b[1;37m       ^\u001b[0m\n\u001b[1;31mSyntaxError\u001b[0m\u001b[1;31m:\u001b[0m invalid syntax\n"
     ]
    }
   ],
   "source": [
    "1. Sınav Notu: 60\n",
    "2. Sınav Notu: 60\n",
    "3. Sınav Notu: 70"
   ]
  },
  {
   "cell_type": "code",
   "execution_count": 5,
   "id": "eb3e8ac8",
   "metadata": {},
   "outputs": [
    {
     "name": "stdout",
     "output_type": "stream",
     "text": [
      "Birinci Sınav:50\n",
      "İkinci Sınav:60\n",
      "Üçüncü Sınav:70\n",
      "Toplamları: 180\n"
     ]
    }
   ],
   "source": [
    "a = int(input(\"Birinci Sınav:\"))\n",
    "b = int(input(\"İkinci Sınav:\"))\n",
    "c = int(input(\"Üçüncü Sınav:\"))\n",
    "print(\"Toplamları:\",a+b+c)"
   ]
  },
  {
   "cell_type": "code",
   "execution_count": null,
   "id": "e86128b4",
   "metadata": {},
   "outputs": [],
   "source": []
  }
 ],
 "metadata": {
  "kernelspec": {
   "display_name": "Python 3 (ipykernel)",
   "language": "python",
   "name": "python3"
  },
  "language_info": {
   "codemirror_mode": {
    "name": "ipython",
    "version": 3
   },
   "file_extension": ".py",
   "mimetype": "text/x-python",
   "name": "python",
   "nbconvert_exporter": "python",
   "pygments_lexer": "ipython3",
   "version": "3.9.13"
  }
 },
 "nbformat": 4,
 "nbformat_minor": 5
}
