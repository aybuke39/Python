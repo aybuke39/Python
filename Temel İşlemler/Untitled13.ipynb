{
 "cells": [
  {
   "cell_type": "code",
   "execution_count": 5,
   "id": "d21ae9fc",
   "metadata": {},
   "outputs": [
    {
     "name": "stdout",
     "output_type": "stream",
     "text": [
      "[ 6. 40. 31. 45.]\n"
     ]
    }
   ],
   "source": [
    "import numpy as np\n",
    "vize = [10, 20, 30, 40]\n",
    "final = [2, 60, 32, 50]\n",
    "\n",
    "vize_np = np.array(vize)\n",
    "final_np = np.array(final)\n",
    "\n",
    "ortalama = (vize_np + final_np)/2\n",
    "print(ortalama)"
   ]
  },
  {
   "cell_type": "code",
   "execution_count": 11,
   "id": "23b59629",
   "metadata": {},
   "outputs": [
    {
     "name": "stdout",
     "output_type": "stream",
     "text": [
      "[[1 2 3]\n",
      " [4 5 6]]\n"
     ]
    }
   ],
   "source": [
    "import numpy as np\n",
    "\n",
    "# 2 boyutlu bir NumPy dizisi oluşturma\n",
    "my_array = np.array([[1, 2, 3], [4, 5, 6]])\n",
    "\n",
    "# NumPy dizisini ekrana yazdırma\n",
    "print(my_array)"
   ]
  },
  {
   "cell_type": "code",
   "execution_count": 12,
   "id": "c8c143cd",
   "metadata": {},
   "outputs": [
    {
     "name": "stdout",
     "output_type": "stream",
     "text": [
      "5\n"
     ]
    }
   ],
   "source": [
    "import numpy as np\n",
    "\n",
    "arr = np.array([1, 2, 3, 4, 5])\n",
    "max_value = np.amax(arr)\n",
    "print(max_value) # output: 5"
   ]
  },
  {
   "cell_type": "code",
   "execution_count": 16,
   "id": "2808d80b",
   "metadata": {},
   "outputs": [
    {
     "name": "stdout",
     "output_type": "stream",
     "text": [
      "[3 6 9]\n"
     ]
    }
   ],
   "source": [
    "import numpy as np\n",
    "arr = np.array([[1, 2, 3], [4, 5, 6], [7, 8, 9]])\n",
    "max_value = np.amax(arr, axis=1)\n",
    "print(max_value) # output: [3 6 9]"
   ]
  },
  {
   "cell_type": "code",
   "execution_count": 18,
   "id": "7f98449c",
   "metadata": {},
   "outputs": [
    {
     "name": "stdout",
     "output_type": "stream",
     "text": [
      "[[3]\n",
      " [6]\n",
      " [9]]\n"
     ]
    }
   ],
   "source": [
    "import numpy as np\n",
    "arr = np.array([[1, 2, 3], [4, 5, 6], [7, 8, 9]])\n",
    "max_value = np.amax(arr, axis=1, keepdims=True)\n",
    "print(max_value) # output: [[3], [6], [9]]"
   ]
  },
  {
   "cell_type": "code",
   "execution_count": 19,
   "id": "a0a79b3d",
   "metadata": {},
   "outputs": [
    {
     "name": "stdout",
     "output_type": "stream",
     "text": [
      "5\n"
     ]
    }
   ],
   "source": [
    "import numpy as np\n",
    "\n",
    "arr = np.array([1, 2, 3, 4, 5])\n",
    "max_value = np.amax(arr,initial=0)\n",
    "print(max_value) # output: 5"
   ]
  },
  {
   "cell_type": "code",
   "execution_count": null,
   "id": "f7d9a3ec",
   "metadata": {},
   "outputs": [],
   "source": []
  }
 ],
 "metadata": {
  "kernelspec": {
   "display_name": "Python 3 (ipykernel)",
   "language": "python",
   "name": "python3"
  },
  "language_info": {
   "codemirror_mode": {
    "name": "ipython",
    "version": 3
   },
   "file_extension": ".py",
   "mimetype": "text/x-python",
   "name": "python",
   "nbconvert_exporter": "python",
   "pygments_lexer": "ipython3",
   "version": "3.9.13"
  }
 },
 "nbformat": 4,
 "nbformat_minor": 5
}
