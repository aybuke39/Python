{
 "cells": [
  {
   "cell_type": "markdown",
   "id": "5c4fd058",
   "metadata": {},
   "source": [
    "## İf koşulu"
   ]
  },
  {
   "cell_type": "code",
   "execution_count": 5,
   "id": "50b7cbda",
   "metadata": {},
   "outputs": [
    {
     "name": "stdout",
     "output_type": "stream",
     "text": [
      "Yaşınızı giriniz:17\n",
      "bu mekana giremez.\n"
     ]
    }
   ],
   "source": [
    "# 18 yaş kontrolü\n",
    "yaş =int(input(\"Yaşınızı giriniz:\"))\n",
    "if (yaş <  18):\n",
    "    # if bloğu - girinti ile sağlanır.\n",
    "               print(\"bu mekana giremez.\")\n",
    "               "
   ]
  },
  {
   "cell_type": "code",
   "execution_count": 6,
   "id": "11ff6a05",
   "metadata": {},
   "outputs": [
    {
     "name": "stdout",
     "output_type": "stream",
     "text": [
      "Yaşınızı giriniz:19\n"
     ]
    }
   ],
   "source": [
    "# 18 yaş kontrolü\n",
    "yaş =int(input(\"Yaşınızı giriniz:\"))\n",
    "if (yaş <  18):\n",
    "    # if bloğu - girinti ile sağlanır.\n",
    "               print(\"bu mekana giremez.\")\n",
    "               "
   ]
  },
  {
   "cell_type": "code",
   "execution_count": 7,
   "id": "0c16150a",
   "metadata": {},
   "outputs": [
    {
     "name": "stdout",
     "output_type": "stream",
     "text": [
      "Yaşınızı giriniz:15\n",
      "Ehliyet kursuna kayıt olamazsınız.\n"
     ]
    }
   ],
   "source": [
    "yaş =int(input(\"Yaşınızı giriniz:\"))\n",
    "if (yaş>=18):\n",
    " print(\"Ehliyet kursuna kayıt olabilirsiniz.\")\n",
    "if(yaş<18):\n",
    "    print(\"Ehliyet kursuna kayıt olamazsınız.\")\n",
    "               "
   ]
  },
  {
   "cell_type": "code",
   "execution_count": 11,
   "id": "583279da",
   "metadata": {},
   "outputs": [
    {
     "name": "stdout",
     "output_type": "stream",
     "text": [
      "Yaşınızı giriniz:10\n",
      "Ehliyet kursuna kayıt olamazsınız.\n"
     ]
    }
   ],
   "source": [
    "yaş =int(input(\"Yaşınızı giriniz:\"))\n",
    "if (yaş>=18):\n",
    "  print(\"Ehliyet kursuna kayıt olabilirsiniz.\")\n",
    "else:\n",
    "  print(\"Ehliyet kursuna kayıt olamazsınız.\")"
   ]
  },
  {
   "cell_type": "code",
   "execution_count": 12,
   "id": "1f441b66",
   "metadata": {},
   "outputs": [
    {
     "name": "stdout",
     "output_type": "stream",
     "text": [
      "Yaşınızı giriniz:25\n",
      "Ehliyet kursuna kayıt olabilirsiniz.\n"
     ]
    }
   ],
   "source": [
    "yaş =int(input(\"Yaşınızı giriniz:\"))\n",
    "if (yaş>=18):\n",
    "  print(\"Ehliyet kursuna kayıt olabilirsiniz.\")\n",
    "else:\n",
    "  print(\"Ehliyet kursuna kayıt olamazsınız.\")"
   ]
  },
  {
   "cell_type": "code",
   "execution_count": null,
   "id": "89fa4f36",
   "metadata": {},
   "outputs": [],
   "source": []
  }
 ],
 "metadata": {
  "kernelspec": {
   "display_name": "Python 3 (ipykernel)",
   "language": "python",
   "name": "python3"
  },
  "language_info": {
   "codemirror_mode": {
    "name": "ipython",
    "version": 3
   },
   "file_extension": ".py",
   "mimetype": "text/x-python",
   "name": "python",
   "nbconvert_exporter": "python",
   "pygments_lexer": "ipython3",
   "version": "3.9.13"
  }
 },
 "nbformat": 4,
 "nbformat_minor": 5
}
