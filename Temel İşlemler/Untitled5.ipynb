{
 "cells": [
  {
   "cell_type": "markdown",
   "id": "ad64aff4",
   "metadata": {},
   "source": [
    "## Sözlük Oluşturmak"
   ]
  },
  {
   "cell_type": "code",
   "execution_count": 1,
   "id": "718340cd",
   "metadata": {},
   "outputs": [],
   "source": [
    "#Süslü Parantez ve iki nokta(:) ile anahtar değerlerimizi yerleştirelim.\n",
    "sözlük1 ={\"sıfır\":0,\"bir\":1,\"iki\":2, \"üç\":3}"
   ]
  },
  {
   "cell_type": "code",
   "execution_count": 2,
   "id": "17b8bc04",
   "metadata": {},
   "outputs": [
    {
     "data": {
      "text/plain": [
       "{'sıfır': 0, 'bir': 1, 'iki': 2, 'üç': 3}"
      ]
     },
     "execution_count": 2,
     "metadata": {},
     "output_type": "execute_result"
    }
   ],
   "source": [
    "sözlük1"
   ]
  },
  {
   "cell_type": "code",
   "execution_count": 4,
   "id": "12e0d0bb",
   "metadata": {},
   "outputs": [
    {
     "data": {
      "text/plain": [
       "0"
      ]
     },
     "execution_count": 4,
     "metadata": {},
     "output_type": "execute_result"
    }
   ],
   "source": [
    "sözlük1[\"sıfır\"]"
   ]
  },
  {
   "cell_type": "code",
   "execution_count": 5,
   "id": "818fd50d",
   "metadata": {},
   "outputs": [
    {
     "data": {
      "text/plain": [
       "1"
      ]
     },
     "execution_count": 5,
     "metadata": {},
     "output_type": "execute_result"
    }
   ],
   "source": [
    "sözlük1[\"bir\"]"
   ]
  },
  {
   "cell_type": "code",
   "execution_count": null,
   "id": "d8be00f2",
   "metadata": {},
   "outputs": [],
   "source": []
  }
 ],
 "metadata": {
  "kernelspec": {
   "display_name": "Python 3 (ipykernel)",
   "language": "python",
   "name": "python3"
  },
  "language_info": {
   "codemirror_mode": {
    "name": "ipython",
    "version": 3
   },
   "file_extension": ".py",
   "mimetype": "text/x-python",
   "name": "python",
   "nbconvert_exporter": "python",
   "pygments_lexer": "ipython3",
   "version": "3.9.13"
  }
 },
 "nbformat": 4,
 "nbformat_minor": 5
}
